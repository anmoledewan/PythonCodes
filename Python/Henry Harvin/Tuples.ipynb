{
 "cells": [
  {
   "cell_type": "markdown",
   "metadata": {},
   "source": [
    "Python Tuples\n",
    "\n",
    "Tuples are immutable"
   ]
  },
  {
   "cell_type": "code",
   "execution_count": 1,
   "metadata": {},
   "outputs": [
    {
     "name": "stdout",
     "output_type": "stream",
     "text": [
      "A blank tuple: ()\n"
     ]
    }
   ],
   "source": [
    "#empty tuples\n",
    "py_tuple=()\n",
    "print(\"A blank tuple:\",py_tuple)"
   ]
  },
  {
   "cell_type": "code",
   "execution_count": 2,
   "metadata": {},
   "outputs": [
    {
     "name": "stdout",
     "output_type": "stream",
     "text": [
      "A tuple without brackets: (33, 55, 77) Type: <class 'tuple'>\n"
     ]
    }
   ],
   "source": [
    "#create tuple without using brackets\n",
    "\n",
    "py_tuple=33,55,77\n",
    "print(\"A tuple without brackets:\",py_tuple,\"Type:\",type(py_tuple))"
   ]
  },
  {
   "cell_type": "code",
   "execution_count": 4,
   "metadata": {},
   "outputs": [
    {
     "name": "stdout",
     "output_type": "stream",
     "text": [
      "A tuple of numbers:  (33, 55, 76)\n"
     ]
    }
   ],
   "source": [
    "#tuple of numbers\n",
    "py_tuple=(33,55,76)\n",
    "print(\"A tuple of numbers: \",py_tuple)"
   ]
  },
  {
   "cell_type": "code",
   "execution_count": 6,
   "metadata": {},
   "outputs": [
    {
     "name": "stdout",
     "output_type": "stream",
     "text": [
      "A tuple of mixed numbers:  (33, 33.5, (33+5j))\n"
     ]
    }
   ],
   "source": [
    "#tuple of mixed numbers\n",
    "\n",
    "py_tuple=(33,33.5,33+5j)\n",
    "print(\"A tuple of mixed numbers: \",py_tuple)"
   ]
  },
  {
   "cell_type": "code",
   "execution_count": 7,
   "metadata": {},
   "outputs": [
    {
     "name": "stdout",
     "output_type": "stream",
     "text": [
      "A tuple id mixed data types: (33, 'a', [3, 2])\n"
     ]
    }
   ],
   "source": [
    "#tuple of mixed data types\n",
    "\n",
    "py_tuple=(33,\"a\",[3,2])\n",
    "print(\"A tuple id mixed data types:\",py_tuple)"
   ]
  },
  {
   "cell_type": "code",
   "execution_count": 9,
   "metadata": {},
   "outputs": [
    {
     "name": "stdout",
     "output_type": "stream",
     "text": [
      "A tuple of nested  tuples: ((1, 2, 3), (4, 5, 6))\n"
     ]
    }
   ],
   "source": [
    "# create nested tuple\n",
    "\n",
    "py_tuple=((1,2,3),(4,5,6))\n",
    "print(\"A tuple of nested  tuples:\",py_tuple)"
   ]
  },
  {
   "cell_type": "code",
   "execution_count": 11,
   "metadata": {},
   "outputs": [
    {
     "name": "stdout",
     "output_type": "stream",
     "text": [
      "(1, 2, 3)\n"
     ]
    }
   ],
   "source": [
    "#list of tuples\n",
    "py_tuple=tuple([1,2,3])\n",
    "print(py_tuple)"
   ]
  },
  {
   "cell_type": "code",
   "execution_count": 17,
   "metadata": {},
   "outputs": [
    {
     "name": "stdout",
     "output_type": "stream",
     "text": [
      "Tuple before modification: (1, 2, 3, 3, 4, [4, 5])\n"
     ]
    }
   ],
   "source": [
    "py_tuple=(1,2,3,3,4,[4,5])\n",
    "print(\"Tuple before modification:\",py_tuple)"
   ]
  },
  {
   "cell_type": "code",
   "execution_count": 13,
   "metadata": {},
   "outputs": [
    {
     "data": {
      "text/plain": [
       "1"
      ]
     },
     "execution_count": 13,
     "metadata": {},
     "output_type": "execute_result"
    }
   ],
   "source": [
    "py_tuple[0]"
   ]
  },
  {
   "cell_type": "code",
   "execution_count": 16,
   "metadata": {},
   "outputs": [
    {
     "name": "stdout",
     "output_type": "stream",
     "text": [
      "Error: 'tuple' object does not support item assignment\n"
     ]
    }
   ],
   "source": [
    "try:\n",
    "    py_tuple[0]=45\n",
    "except Exception as ex:\n",
    "    print(\"Error:\",ex)"
   ]
  },
  {
   "cell_type": "code",
   "execution_count": 19,
   "metadata": {},
   "outputs": [
    {
     "name": "stdout",
     "output_type": "stream",
     "text": [
      "Tuple after modification: (1, 2, 3, 3, 4, [8, 10])\n"
     ]
    }
   ],
   "source": [
    "\n",
    "py_tuple[5][0]=8\n",
    "py_tuple[5][1]=10\n",
    "print(\"Tuple after modification:\",py_tuple)"
   ]
  },
  {
   "cell_type": "markdown",
   "metadata": {},
   "source": [
    "Lists can be  modified and tuples cannot be modified"
   ]
  },
  {
   "cell_type": "code",
   "execution_count": 20,
   "metadata": {},
   "outputs": [],
   "source": [
    "#item of particular tuple cannot be deleted\n"
   ]
  },
  {
   "cell_type": "code",
   "execution_count": 35,
   "metadata": {},
   "outputs": [
    {
     "name": "stdout",
     "output_type": "stream",
     "text": [
      "Anmole PGDM A 1992\n",
      "Sanyam PGDM B 1994\n",
      "Rishab PGDM C 1993\n"
     ]
    }
   ],
   "source": [
    "emp_records=('Anmole','PGDM A',1992,'Sanyam','PGDM B',1994,'Rishab','PGDM C',1993)\n",
    "for i in (0,3,6):\n",
    "    (name,section,yob)=emp_records[i:i+3]\n",
    "    print(name,section,yob)"
   ]
  },
  {
   "cell_type": "code",
   "execution_count": 23,
   "metadata": {},
   "outputs": [
    {
     "data": {
      "text/plain": [
       "'Anmole'"
      ]
     },
     "execution_count": 23,
     "metadata": {},
     "output_type": "execute_result"
    }
   ],
   "source": [
    "name"
   ]
  },
  {
   "cell_type": "code",
   "execution_count": 34,
   "metadata": {},
   "outputs": [
    {
     "name": "stdout",
     "output_type": "stream",
     "text": [
      "(4, 9)\n"
     ]
    }
   ],
   "source": [
    "def square(n1,n2):\n",
    "    return ((n1*n1,n2*n2))\n",
    "print(square(2,3))"
   ]
  },
  {
   "cell_type": "code",
   "execution_count": null,
   "metadata": {},
   "outputs": [],
   "source": []
  }
 ],
 "metadata": {
  "kernelspec": {
   "display_name": "Python 3",
   "language": "python",
   "name": "python3"
  },
  "language_info": {
   "codemirror_mode": {
    "name": "ipython",
    "version": 3
   },
   "file_extension": ".py",
   "mimetype": "text/x-python",
   "name": "python",
   "nbconvert_exporter": "python",
   "pygments_lexer": "ipython3",
   "version": "3.7.1"
  }
 },
 "nbformat": 4,
 "nbformat_minor": 2
}
