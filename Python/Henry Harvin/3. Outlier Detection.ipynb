{
 "cells": [
  {
   "cell_type": "markdown",
   "metadata": {},
   "source": [
    " !pip is the command which installs library in python"
   ]
  },
  {
   "cell_type": "code",
   "execution_count": 1,
   "metadata": {},
   "outputs": [
    {
     "name": "stdout",
     "output_type": "stream",
     "text": [
      "Collecting pyod\n",
      "\u001b[?25l  Downloading https://files.pythonhosted.org/packages/6e/43/58619a5f5e29fc28642fbd381b465b2f48d97da2b1a0aba3052d110b2232/pyod-0.6.8.tar.gz (73kB)\n",
      "\u001b[K    100% |████████████████████████████████| 81kB 760kB/s ta 0:00:01\n",
      "\u001b[?25hRequirement already satisfied: matplotlib in /Applications/anaconda3/lib/python3.7/site-packages (from pyod) (3.0.2)\n",
      "Requirement already satisfied: numpy>=1.13 in /Applications/anaconda3/lib/python3.7/site-packages (from pyod) (1.15.4)\n",
      "Requirement already satisfied: numba>=0.35 in /Applications/anaconda3/lib/python3.7/site-packages (from pyod) (0.41.0)\n",
      "Requirement already satisfied: scipy>=0.19.1 in /Applications/anaconda3/lib/python3.7/site-packages (from pyod) (1.1.0)\n",
      "Requirement already satisfied: scikit_learn>=0.19.1 in /Applications/anaconda3/lib/python3.7/site-packages (from pyod) (0.20.1)\n",
      "Requirement already satisfied: cycler>=0.10 in /Applications/anaconda3/lib/python3.7/site-packages (from matplotlib->pyod) (0.10.0)\n",
      "Requirement already satisfied: kiwisolver>=1.0.1 in /Applications/anaconda3/lib/python3.7/site-packages (from matplotlib->pyod) (1.0.1)\n",
      "Requirement already satisfied: pyparsing!=2.0.4,!=2.1.2,!=2.1.6,>=2.0.1 in /Applications/anaconda3/lib/python3.7/site-packages (from matplotlib->pyod) (2.3.0)\n",
      "Requirement already satisfied: python-dateutil>=2.1 in /Applications/anaconda3/lib/python3.7/site-packages (from matplotlib->pyod) (2.7.5)\n",
      "Requirement already satisfied: llvmlite>=0.26.0dev0 in /Applications/anaconda3/lib/python3.7/site-packages (from numba>=0.35->pyod) (0.26.0)\n",
      "Requirement already satisfied: six in /Applications/anaconda3/lib/python3.7/site-packages (from cycler>=0.10->matplotlib->pyod) (1.12.0)\n",
      "Requirement already satisfied: setuptools in /Applications/anaconda3/lib/python3.7/site-packages (from kiwisolver>=1.0.1->matplotlib->pyod) (40.6.3)\n",
      "Building wheels for collected packages: pyod\n",
      "  Running setup.py bdist_wheel for pyod ... \u001b[?25ldone\n",
      "\u001b[?25h  Stored in directory: /Users/anmoldewan/Library/Caches/pip/wheels/af/5b/a8/db41636737f746250b4134e9a12a95aa24feef4ecc3e871b0b\n",
      "Successfully built pyod\n",
      "Installing collected packages: pyod\n",
      "Successfully installed pyod-0.6.8\n"
     ]
    }
   ],
   "source": [
    "!pip install pyod"
   ]
  },
  {
   "cell_type": "code",
   "execution_count": 3,
   "metadata": {},
   "outputs": [],
   "source": [
    "import pandas as pd\n",
    "import numpy as np"
   ]
  },
  {
   "cell_type": "code",
   "execution_count": 4,
   "metadata": {},
   "outputs": [],
   "source": [
    "# import models\n",
    "from pyod.models.abod import ABOD\n",
    "from pyod.models.cblof import CBLOF\n",
    "from pyod.models.feature_bagging import FeatureBagging\n",
    "from pyod.models.hbos import HBOS\n",
    "from pyod.models.iforest import IForest\n",
    "from pyod.models.knn import KNN\n",
    "from pyod.models.lof import LOF"
   ]
  },
  {
   "cell_type": "code",
   "execution_count": null,
   "metadata": {},
   "outputs": [],
   "source": [
    "df= pd.read_csv(\"Outlier_Train\",sep=\",\")\n"
   ]
  },
  {
   "cell_type": "code",
   "execution_count": null,
   "metadata": {},
   "outputs": [],
   "source": [
    "df.plot.scatter('Item_MRP','Item_Outlet_Sales')"
   ]
  },
  {
   "cell_type": "code",
   "execution_count": null,
   "metadata": {},
   "outputs": [],
   "source": [
    "from sklearn.preprocessing import MinMaxScaler\n",
    "\n",
    "scaler = MinMaxScaler(feature_range=(0, 1))   #normalising the values\n",
    "df[['Item_MRP','Item_Outlet_Sales']] = scaler.fit_transform(df[['Item_MRP','Item_Outlet_Sales']])\n",
    "df[['Item_MRP','Item_Outlet_Sales']].head()"
   ]
  },
  {
   "cell_type": "code",
   "execution_count": null,
   "metadata": {},
   "outputs": [],
   "source": [
    "\n",
    "\n",
    "###########################################################################\n",
    "#reshaping for fitting values in the models. \n",
    "#-1 signifies that we do not know the dimension of the col \n",
    "#and we want to retain the dimension.1 signifies that we want 1 column"
   ]
  },
  {
   "cell_type": "code",
   "execution_count": null,
   "metadata": {},
   "outputs": [],
   "source": [
    "X1 = df['Item_MRP'].values.reshape(-1,1)               \n",
    "X2 = df['Item_Outlet_Sales'].values.reshape(-1,1)\n",
    "\n",
    "X = np.concatenate((X1,X2),axis=1)"
   ]
  },
  {
   "cell_type": "code",
   "execution_count": null,
   "metadata": {},
   "outputs": [],
   "source": [
    "\n",
    "\n",
    "\n",
    "#Random state: for randomization so that we dont select same set in next iteration"
   ]
  },
  {
   "cell_type": "code",
   "execution_count": null,
   "metadata": {},
   "outputs": [],
   "source": [
    "random_state = np.random.RandomState(42)\n",
    "outliers_fraction = 0.05"
   ]
  },
  {
   "cell_type": "code",
   "execution_count": null,
   "metadata": {},
   "outputs": [],
   "source": [
    "# Define seven outlier detection tools to be compared\n",
    "classifiers = {\n",
    "        'Angle-based Outlier Detector (ABOD)': ABOD(contamination=outliers_fraction),\n",
    "        'Cluster-based Local Outlier Factor (CBLOF)':CBLOF(contamination=outliers_fraction,check_estimator=False, random_state=random_state),\n",
    "        'Feature Bagging':FeatureBagging(LOF(n_neighbors=35),contamination=outliers_fraction,check_estimator=False,random_state=random_state),\n",
    "        'Histogram-base Outlier Detection (HBOS)': HBOS(contamination=outliers_fraction),\n",
    "        'Isolation Forest': IForest(contamination=outliers_fraction,random_state=random_state),\n",
    "        'K Nearest Neighbors (KNN)': KNN(contamination=outliers_fraction),\n",
    "        'Average KNN': KNN(method='mean',contamination=outliers_fraction)\n",
    "}"
   ]
  },
  {
   "cell_type": "code",
   "execution_count": null,
   "metadata": {},
   "outputs": [],
   "source": [
    "xx , yy = np.meshgrid(np.linspace(0,1 , 200), np.linspace(0, 1, 200))\n",
    "\n",
    "for i, (clf_name, clf) in enumerate(classifiers.items()):\n",
    "    clf.fit(X)    # fit is used to train on that model, so fit X on that model\n",
    "    \n",
    "    # predict raw anomaly score\n",
    "    scores_pred = clf.decision_function(X) * -1   \n",
    "        \n",
    "    # prediction of a datapoint category outlier or inlier\n",
    "    y_pred = clf.predict(X)\n",
    "    n_inliers = len(y_pred) - np.count_nonzero(y_pred)    # all zero count\n",
    "    n_outliers = np.count_nonzero(y_pred == 1)            # all ones count\n",
    "    print(n_outliers)\n",
    "    \n",
    "    plt.figure(figsize=(10, 10))\n",
    "    \n",
    "    # copy of dataframe\n",
    "    dfx = df\n",
    "    dfx['outlier'] = y_pred.tolist()\n",
    "    print(dfx)\n",
    "    \n",
    "    # IX1 - inlier feature 1,  IX2 - inlier feature 2\n",
    "    IX1 =  np.array(dfx['Item_MRP'][dfx['outlier'] == 0]).reshape(-1,1)\n",
    "    IX2 =  np.array(dfx['Item_Outlet_Sales'][dfx['outlier'] == 0]).reshape(-1,1)\n",
    "    \n",
    "    # OX1 - outlier feature 1, OX2 - outlier feature 2\n",
    "    OX1 =  dfx['Item_MRP'][dfx['outlier'] == 1].values.reshape(-1,1)\n",
    "    OX2 =  dfx['Item_Outlet_Sales'][dfx['outlier'] == 1].values.reshape(-1,1)\n",
    "         \n",
    "    print('OUTLIERS : ',n_outliers,'INLIERS : ',n_inliers, clf_name)\n",
    "        \n",
    "    # threshold value to consider a datapoint inlier or outlier\n",
    "    threshold = stats.scoreatpercentile(scores_pred,100 * outliers_fraction)\n",
    "        \n",
    "    # decision function calculates the raw anomaly score for every point\n",
    "    Z = clf.decision_function(np.c_[xx.ravel(), yy.ravel()]) * -1\n",
    "    Z = Z.reshape(xx.shape)\n",
    "          \n",
    "    # fill blue map colormap from minimum anomaly score to threshold value\n",
    "    plt.contourf(xx, yy, Z, levels=np.linspace(Z.min(), threshold, 7),cmap=plt.cm.Blues_r)\n",
    "        \n",
    "    # draw red contour line where anomaly score is equal to thresold\n",
    "    a = plt.contour(xx, yy, Z, levels=[threshold],linewidths=2, colors='red')\n",
    "        \n",
    "    # fill orange contour lines where range of anomaly score is from threshold to maximum anomaly score\n",
    "    plt.contourf(xx, yy, Z, levels=[threshold, Z.max()],colors='orange')\n",
    "        \n",
    "    b = plt.scatter(IX1,IX2, c='white',s=20, edgecolor='k')\n",
    "    \n",
    "    c = plt.scatter(OX1,OX2, c='black',s=20, edgecolor='k')\n",
    "       \n",
    "    plt.axis('tight')  \n",
    "    \n",
    "    # loc=2 is used for the top left corner \n",
    "    plt.legend(\n",
    "        [a.collections[0], b,c],\n",
    "        ['learned decision function', 'inliers','outliers'],\n",
    "        prop=matplotlib.font_manager.FontProperties(size=20),\n",
    "        loc=2)\n",
    "      \n",
    "    plt.xlim((0, 1))\n",
    "    plt.ylim((0, 1))\n",
    "    plt.title(clf_name)\n",
    "    plt.show()"
   ]
  }
 ],
 "metadata": {
  "kernelspec": {
   "display_name": "Python 3",
   "language": "python",
   "name": "python3"
  },
  "language_info": {
   "codemirror_mode": {
    "name": "ipython",
    "version": 3
   },
   "file_extension": ".py",
   "mimetype": "text/x-python",
   "name": "python",
   "nbconvert_exporter": "python",
   "pygments_lexer": "ipython3",
   "version": "3.7.1"
  }
 },
 "nbformat": 4,
 "nbformat_minor": 2
}
