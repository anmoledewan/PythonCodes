{
 "cells": [
  {
   "cell_type": "code",
   "execution_count": 2,
   "metadata": {},
   "outputs": [
    {
     "name": "stdout",
     "output_type": "stream",
     "text": [
      "Collecting tweepy\n",
      "  Downloading https://files.pythonhosted.org/packages/d5/5f/daac4b4e9b30d7d2a6fdd16a880ff79f27918fe388e4dfc1983dec3a9876/tweepy-3.7.0-py2.py3-none-any.whl\n",
      "Collecting requests-oauthlib>=0.7.0 (from tweepy)\n",
      "  Downloading https://files.pythonhosted.org/packages/c2/e2/9fd03d55ffb70fe51f587f20bcf407a6927eb121de86928b34d162f0b1ac/requests_oauthlib-1.2.0-py2.py3-none-any.whl\n",
      "Requirement already satisfied: requests>=2.11.1 in /Applications/anaconda3/lib/python3.7/site-packages (from tweepy) (2.21.0)\n",
      "Requirement already satisfied: PySocks>=1.5.7 in /Applications/anaconda3/lib/python3.7/site-packages (from tweepy) (1.6.8)\n",
      "Requirement already satisfied: six>=1.10.0 in /Applications/anaconda3/lib/python3.7/site-packages (from tweepy) (1.12.0)\n",
      "Collecting oauthlib>=3.0.0 (from requests-oauthlib>=0.7.0->tweepy)\n",
      "\u001b[?25l  Downloading https://files.pythonhosted.org/packages/16/95/699466b05b72b94a41f662dc9edf87fda4289e3602ecd42d27fcaddf7b56/oauthlib-3.0.1-py2.py3-none-any.whl (142kB)\n",
      "\u001b[K    100% |████████████████████████████████| 143kB 1.2MB/s ta 0:00:01\n",
      "\u001b[?25hRequirement already satisfied: chardet<3.1.0,>=3.0.2 in /Applications/anaconda3/lib/python3.7/site-packages (from requests>=2.11.1->tweepy) (3.0.4)\n",
      "Requirement already satisfied: idna<2.9,>=2.5 in /Applications/anaconda3/lib/python3.7/site-packages (from requests>=2.11.1->tweepy) (2.8)\n",
      "Requirement already satisfied: urllib3<1.25,>=1.21.1 in /Applications/anaconda3/lib/python3.7/site-packages (from requests>=2.11.1->tweepy) (1.24.1)\n",
      "Requirement already satisfied: certifi>=2017.4.17 in /Applications/anaconda3/lib/python3.7/site-packages (from requests>=2.11.1->tweepy) (2018.11.29)\n",
      "Installing collected packages: oauthlib, requests-oauthlib, tweepy\n",
      "Successfully installed oauthlib-3.0.1 requests-oauthlib-1.2.0 tweepy-3.7.0\n"
     ]
    }
   ],
   "source": [
    "!pip install tweepy"
   ]
  },
  {
   "cell_type": "code",
   "execution_count": 3,
   "metadata": {},
   "outputs": [],
   "source": [
    "#Import the necessary methods from tweepy library\n",
    "from tweepy.streaming import StreamListener\n",
    "from tweepy import OAuthHandler\n",
    "from tweepy import Stream\n",
    "\n",
    "#Variables that contains the user credentials to access Twitter API \n",
    "\n"
   ]
  },
  {
   "cell_type": "code",
   "execution_count": null,
   "metadata": {},
   "outputs": [],
   "source": [
    "\n",
    "access_token = \"FehxUEekcLXOxKsTr5YlKfO86Bt8fbnexalWpJu2\"\n",
    "access_secret = \"VgoaSYzzBftak2xp2rFeVt7rIJQJu52K8LE3Xk2zixJo2\"\n",
    "consumer_key = \"EWMtEcyiKNpCISa1yUjLUuE14t\"\n",
    "consumer_secret = \"5wYn7LychoWJrOne7ejtARVAO68dRSIyP0ZGktVKpU076mzyH7\"\n",
    "\n"
   ]
  },
  {
   "cell_type": "code",
   "execution_count": 9,
   "metadata": {},
   "outputs": [
    {
     "name": "stdout",
     "output_type": "stream",
     "text": [
      "401\n",
      "401\n",
      "401\n",
      "401\n",
      "401\n"
     ]
    },
    {
     "ename": "KeyboardInterrupt",
     "evalue": "",
     "output_type": "error",
     "traceback": [
      "\u001b[0;31m---------------------------------------------------------------------------\u001b[0m",
      "\u001b[0;31mKeyboardInterrupt\u001b[0m                         Traceback (most recent call last)",
      "\u001b[0;32m<ipython-input-9-c6f86955622b>\u001b[0m in \u001b[0;36m<module>\u001b[0;34m\u001b[0m\n\u001b[1;32m     20\u001b[0m \u001b[0;34m\u001b[0m\u001b[0m\n\u001b[1;32m     21\u001b[0m     \u001b[0;31m#This line filter Twitter Streams to capture data by the keywords: 'python', 'javascript', 'ruby'\u001b[0m\u001b[0;34m\u001b[0m\u001b[0;34m\u001b[0m\u001b[0;34m\u001b[0m\u001b[0m\n\u001b[0;32m---> 22\u001b[0;31m     \u001b[0mstream\u001b[0m\u001b[0;34m.\u001b[0m\u001b[0mfilter\u001b[0m\u001b[0;34m(\u001b[0m\u001b[0mtrack\u001b[0m\u001b[0;34m=\u001b[0m\u001b[0;34m[\u001b[0m\u001b[0;34m'python'\u001b[0m\u001b[0;34m,\u001b[0m \u001b[0;34m'javascript'\u001b[0m\u001b[0;34m,\u001b[0m \u001b[0;34m'ruby'\u001b[0m\u001b[0;34m]\u001b[0m\u001b[0;34m)\u001b[0m\u001b[0;34m\u001b[0m\u001b[0;34m\u001b[0m\u001b[0m\n\u001b[0m",
      "\u001b[0;32m/Applications/anaconda3/lib/python3.7/site-packages/tweepy/streaming.py\u001b[0m in \u001b[0;36mfilter\u001b[0;34m(self, follow, track, is_async, locations, stall_warnings, languages, encoding, filter_level)\u001b[0m\n\u001b[1;32m    451\u001b[0m             \u001b[0mself\u001b[0m\u001b[0;34m.\u001b[0m\u001b[0mbody\u001b[0m\u001b[0;34m[\u001b[0m\u001b[0;34m'filter_level'\u001b[0m\u001b[0;34m]\u001b[0m \u001b[0;34m=\u001b[0m \u001b[0mfilter_level\u001b[0m\u001b[0;34m.\u001b[0m\u001b[0mencode\u001b[0m\u001b[0;34m(\u001b[0m\u001b[0mencoding\u001b[0m\u001b[0;34m)\u001b[0m\u001b[0;34m\u001b[0m\u001b[0;34m\u001b[0m\u001b[0m\n\u001b[1;32m    452\u001b[0m         \u001b[0mself\u001b[0m\u001b[0;34m.\u001b[0m\u001b[0msession\u001b[0m\u001b[0;34m.\u001b[0m\u001b[0mparams\u001b[0m \u001b[0;34m=\u001b[0m \u001b[0;34m{\u001b[0m\u001b[0;34m'delimited'\u001b[0m\u001b[0;34m:\u001b[0m \u001b[0;34m'length'\u001b[0m\u001b[0;34m}\u001b[0m\u001b[0;34m\u001b[0m\u001b[0;34m\u001b[0m\u001b[0m\n\u001b[0;32m--> 453\u001b[0;31m         \u001b[0mself\u001b[0m\u001b[0;34m.\u001b[0m\u001b[0m_start\u001b[0m\u001b[0;34m(\u001b[0m\u001b[0mis_async\u001b[0m\u001b[0;34m)\u001b[0m\u001b[0;34m\u001b[0m\u001b[0;34m\u001b[0m\u001b[0m\n\u001b[0m\u001b[1;32m    454\u001b[0m \u001b[0;34m\u001b[0m\u001b[0m\n\u001b[1;32m    455\u001b[0m     def sitestream(self, follow, stall_warnings=False,\n",
      "\u001b[0;32m/Applications/anaconda3/lib/python3.7/site-packages/tweepy/streaming.py\u001b[0m in \u001b[0;36m_start\u001b[0;34m(self, is_async)\u001b[0m\n\u001b[1;32m    366\u001b[0m             \u001b[0mself\u001b[0m\u001b[0;34m.\u001b[0m\u001b[0m_thread\u001b[0m\u001b[0;34m.\u001b[0m\u001b[0mstart\u001b[0m\u001b[0;34m(\u001b[0m\u001b[0;34m)\u001b[0m\u001b[0;34m\u001b[0m\u001b[0;34m\u001b[0m\u001b[0m\n\u001b[1;32m    367\u001b[0m         \u001b[0;32melse\u001b[0m\u001b[0;34m:\u001b[0m\u001b[0;34m\u001b[0m\u001b[0;34m\u001b[0m\u001b[0m\n\u001b[0;32m--> 368\u001b[0;31m             \u001b[0mself\u001b[0m\u001b[0;34m.\u001b[0m\u001b[0m_run\u001b[0m\u001b[0;34m(\u001b[0m\u001b[0;34m)\u001b[0m\u001b[0;34m\u001b[0m\u001b[0;34m\u001b[0m\u001b[0m\n\u001b[0m\u001b[1;32m    369\u001b[0m \u001b[0;34m\u001b[0m\u001b[0m\n\u001b[1;32m    370\u001b[0m     \u001b[0;32mdef\u001b[0m \u001b[0mon_closed\u001b[0m\u001b[0;34m(\u001b[0m\u001b[0mself\u001b[0m\u001b[0;34m,\u001b[0m \u001b[0mresp\u001b[0m\u001b[0;34m)\u001b[0m\u001b[0;34m:\u001b[0m\u001b[0;34m\u001b[0m\u001b[0;34m\u001b[0m\u001b[0m\n",
      "\u001b[0;32m/Applications/anaconda3/lib/python3.7/site-packages/tweepy/streaming.py\u001b[0m in \u001b[0;36m_run\u001b[0;34m(self)\u001b[0m\n\u001b[1;32m    259\u001b[0m                         self.retry_time = max(self.retry_420_start,\n\u001b[1;32m    260\u001b[0m                                               self.retry_time)\n\u001b[0;32m--> 261\u001b[0;31m                     \u001b[0msleep\u001b[0m\u001b[0;34m(\u001b[0m\u001b[0mself\u001b[0m\u001b[0;34m.\u001b[0m\u001b[0mretry_time\u001b[0m\u001b[0;34m)\u001b[0m\u001b[0;34m\u001b[0m\u001b[0;34m\u001b[0m\u001b[0m\n\u001b[0m\u001b[1;32m    262\u001b[0m                     self.retry_time = min(self.retry_time * 2,\n\u001b[1;32m    263\u001b[0m                                           self.retry_time_cap)\n",
      "\u001b[0;31mKeyboardInterrupt\u001b[0m: "
     ]
    }
   ],
   "source": [
    "import tweepy\n",
    "#This is a basic listener that just prints received tweets to stdout.\n",
    "class StdOutListener(StreamListener):\n",
    "\n",
    "    def on_data(self, data):\n",
    "        print (data)\n",
    "        return True\n",
    "\n",
    "    def on_error(self, status):\n",
    "        print (status)\n",
    "\n",
    "\n",
    "if __name__ == '__main__':\n",
    "\n",
    "    #This handles Twitter authetification and the connection to Twitter Streaming API\n",
    "    l = StdOutListener()\n",
    "    auth = OAuthHandler(consumer_key, consumer_secret)\n",
    "    auth.set_access_token(access_token, access_token_secret)\n",
    "    stream = Stream(auth, l)\n",
    "\n",
    "    #This line filter Twitter Streams to capture data by the keywords: 'python', 'javascript', 'ruby'\n",
    "    stream.filter(track=['python', 'javascript', 'ruby'])"
   ]
  },
  {
   "cell_type": "code",
   "execution_count": 14,
   "metadata": {},
   "outputs": [
    {
     "name": "stdout",
     "output_type": "stream",
     "text": [
      "['RT @girishjohar: So True... With a heavy heart 🙏🏻\\n@Amul_Coop \\n#PulwamaTerrorAttack \\n#PulwamaTerroristAttack \\n#StopTerrorismInKashmir \\n#Indi…', '@franciscof_1990 @jaimani @phhusson @iamparthbhatia @arter97 @dev_alek Final one @jha_shivam3\\n here is POCO TWRP th… https://t.co/KvvQ8YczRQ', '@franciscof_1990 @jaimani @phhusson @iamparthbhatia\\n@arter97\\n@dev_alek\\ntheir previous work seems good and they have… https://t.co/WV6H6gXVRz', \"@franciscof_1990 @jaimani Nominations :\\n+1 for @franciscof_1990 if he start developing kernel department wouldn't b… https://t.co/vuf7cnUDyc\", '@jaimani @ChiragRijhwani @AdGuard @IndiaPOCO this conversation might interest you ;)', '@jaimani @ChiragRijhwani @AdGuard 8. Expanding Notification is not working on lock screen (android default feature)… https://t.co/G5yCMwxIWG', \"@jaimani @ChiragRijhwani Also MIUI keeps killing @Adguard and locking it doesn't help. What's the purpose of 6Gb ra… https://t.co/tKfQDh1zpe\", '@jaimani @ChiragRijhwani 7. Oh..Forgot about weird RAM management. I had to download a 2 Gb game 4 times as MIUI ke… https://t.co/bRYCJ4mLqf', \"@jaimani @ChiragRijhwani 6. Sound Issues in many apps (for some apps it's distorted or too low, i think not proper… https://t.co/ICYxve0g86\", \"@jaimani @ChiragRijhwani 3. Fingureprint Authentication Doesn't work\\n4. Network Speed Randomly not showing in portr… https://t.co/O4xu8XEISA\", '@jaimani @ChiragRijhwani I purchased POCO on 1st sale and coming from long term Nexus user i think i can Ans. this.… https://t.co/lHPY9o2nrF', 'RT @IndiaPOCO: Win a #POCF1 f-code &amp; #MiBandHRX!\\n\\n1. RT and tag 5 friends\\n2. Follow us on Twitter (https://t.co/ikzLyCO3Io).\\n3. Download of…', \"@XiaomiIndia @Android News says MI A2 will support QC 4.0 in India but sadly it won't include compatible charger an… https://t.co/ai8lIm70RF\", '@ShashiTharoor Most Probably they would be taking photos from helicopters.\\nTechnological advances are all over and… https://t.co/JhSepXta7i', \"It'll also help to act while there's still wind of privacy concern &amp; fear in offender companies rather than be left… https://t.co/epsjkur57r\", \"If it's going to be another long path till we come up with own regulations why can't we enforceable #GDPR till than… https://t.co/1mGr5Zeymv\", 'Why is that EU &amp; US can force Mark on data leak hearing but we are still on grace to hear reply back from FB ?\\nWhat… https://t.co/gOUxDQQVxK', 'Because apparently we are concern only about \"Adhaar\" related privacy &amp; trun blind eyes to privacy hog giants like… https://t.co/CbIHLQTf97', 'https://t.co/jcrEEeo7cR\\n\\nCelebrate #GDPR day, May be one of \\nthe most important &amp; needed regulations comes in effec… https://t.co/3GsV63GOfc', 'RT @manakgupta: आज मोदी जी ‘जनरल’ वालों का दर्द समझ पायेगें कि ज्यादा नम्बर लाकर भी नौकरी न मिले तो कैसा लगता है.\\n\\n*कर्नाटक में 104 ओर 78…']\n"
     ]
    }
   ],
   "source": [
    "import tweepy\n",
    "access_token = \"114258880-FehxUEekcLXOxKsTr5YlKfO86Bt8fbnexalWpJu2\"\n",
    "access_secret = \"VgoaSYzzBftak2xp2rFeVt7rIJQJu52K8LE3Xk2zixJo2\"\n",
    "consumer_key = \"FN6Bd4HKsz1zmZ4kd3R77qlU8\"\n",
    "consumer_secret = \"v9mZ6TpWxBklfqC5JfsloyOYXU1llX7ri1mIk0Fvf3Izambt5e\"\n",
    "# Function to extract tweets \n",
    "def get_tweets(username): \n",
    "          \n",
    "        # Authorization to consumer key and consumer secret \n",
    "        auth = tweepy.OAuthHandler(consumer_key, consumer_secret) \n",
    "  \n",
    "        # Access to user's access key and access secret \n",
    "        auth.set_access_token(access_token, access_secret) \n",
    "  \n",
    "        # Calling api \n",
    "        api = tweepy.API(auth) \n",
    "  \n",
    "        # 200 tweets to be extracted \n",
    "        number_of_tweets=1000\n",
    "        tweets = api.user_timeline(screen_name=username) \n",
    "  \n",
    "        # Empty Array \n",
    "        tmp=[]  \n",
    "  \n",
    "        # create array of tweet information: username,  \n",
    "        # tweet id, date/time, text \n",
    "        tweets_for_csv = [tweet.text for tweet in tweets] # CSV file created  \n",
    "        for j in tweets_for_csv: \n",
    "  \n",
    "            # Appending tweets to the empty array tmp \n",
    "            tmp.append(j)  \n",
    "  \n",
    "        # Printing the tweets \n",
    "        print(tmp) \n",
    "  \n",
    "  \n",
    "# Driver code \n",
    "if __name__ == '__main__': \n",
    "  \n",
    "    # Here goes the twitter handle for the user \n",
    "    # whose tweets are to be extracted. \n",
    "    get_tweets(\"@jineshpatel30\") "
   ]
  },
  {
   "cell_type": "code",
   "execution_count": null,
   "metadata": {},
   "outputs": [],
   "source": []
  }
 ],
 "metadata": {
  "kernelspec": {
   "display_name": "Python 3",
   "language": "python",
   "name": "python3"
  },
  "language_info": {
   "codemirror_mode": {
    "name": "ipython",
    "version": 3
   },
   "file_extension": ".py",
   "mimetype": "text/x-python",
   "name": "python",
   "nbconvert_exporter": "python",
   "pygments_lexer": "ipython3",
   "version": "3.7.1"
  }
 },
 "nbformat": 4,
 "nbformat_minor": 2
}
